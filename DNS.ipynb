from dns import resolver#dnspython���뷽��
import os
import httplib2
 
iplist=[]#��������ip�б����
appdomain = 'www.51cto.com'#����ҵ������Ϊwww.51cto.com
 
def get_iplist(domain=""):  ##��������Ϊ�����������ɹ���׷�ӵ�iplist
    try:
        A = resolver.query(domain,'A')#����A��¼����
    except Exception as e:
        print('dns resolver error:' + str(e))
        return
    for i in A:
            iplist.append(i)#׷��ip��iplist
    return True
 
def checkip(ip):#��iplist��IP���п��ü��
    checkurl = str(ip) + ":80"
    getcontent=""
    httplib2.socket.setdefaulttimeout(5)#����http����ʱ�䳬ʱΪ5��
    conn = httplib2.HTTPConnectionWithTimeout(checkurl)#����http���Ӷ���
 
    try:
        conn.request("GET","/",headers = {"HOST": appdomain}) #����url�����������ͷ ##ͨ������htmlͷ����Ŀ��ҵ������
        response = conn.getresponse()
        getcontent = response.read(15)#��ȡurlǰ15���ַ�����У����
    finally:
        if getcontent == b"<!DOCTYPE html>" :     ##�жϷ����ַ����Ƿ���Ԥ����ͬ
                                                   #���urlһ�����ȶ����

            print(str(ip)+'[ok]')
        else:
            print(str(ip)+'[error]')#�˴��ɷ����桢�ʼ������ŵ�
if __name__ =="__main__":
    if get_iplist(appdomain) and len(iplist) > 0:#����������ȷ���ٷ���һ��ip
        for ip in iplist:
            checkip(ip)
    else:
        print('dns resolve error')